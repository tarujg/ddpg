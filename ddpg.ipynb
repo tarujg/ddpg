{
 "cells": [
  {
   "cell_type": "code",
   "execution_count": null,
   "metadata": {},
   "outputs": [],
   "source": [
    "from IPython import display\n",
    "%matplotlib inline\n",
    "import os\n",
    "from ddpg_reacher import *\n",
    "import warnings\n",
    "warnings.filterwarnings(\"ignore\")"
   ]
  },
  {
   "cell_type": "code",
   "execution_count": null,
   "metadata": {},
   "outputs": [],
   "source": [
    "device = 'cuda' if torch.cuda.is_available() else 'cpu'\n",
    "env = gym.make(\"modified_gym_env:ReacherPyBulletEnv-v1\", rand_init=False)\n",
    "ddpg = DDPG(env, action_dim=2, state_dim=8, device=device, critic_lr=1e-3, actor_lr=1e-4, gamma=0.99, batch_size=100)"
   ]
  },
  {
   "cell_type": "code",
   "execution_count": null,
   "metadata": {
    "scrolled": true
   },
   "outputs": [],
   "source": [
    "# Train the policy\n",
    "value_losses, policy_losses, validation_reward, validation_steps = ddpg.train(1e2)"
   ]
  },
  {
   "cell_type": "code",
   "execution_count": null,
   "metadata": {},
   "outputs": [],
   "source": [
    "if not os.path.exists(\"./results\"):\n",
    "    os.makedirs(\"./results\")\n",
    "\n",
    "plotting(validation_reward, \"Average Rewards for Evaluation\",\n",
    "                            \"./results/eval_return.{}.png\".format(SEED),\"Iterations\", \"Reward\")\n",
    "plotting(validation_steps, \"Steps to Completion\",\n",
    "                            \"./results/eval_steps_{}.png\".format(SEED),\"Iterations\", \"Steps to Completion\")\n",
    "\n",
    "torch.save(ddpg.actor,\"./results/Actor_{}.pth\".format(SEED))\n",
    "torch.save(ddpg.critic,\"./results/Critic_{}.pth\".format(SEED))\n",
    "\n",
    "np.save(\"./results/validation_reward_{}.npy\".format(SEED), validation_reward)\n",
    "np.save(\"./results/validation_steps_{}.npy\".format(SEED), validation_steps)"
   ]
  },
  {
   "cell_type": "code",
   "execution_count": null,
   "metadata": {
    "scrolled": false
   },
   "outputs": [],
   "source": [
    "# Evaluate the final policy\n",
    "state, step, done = env.reset(), 0, False\n",
    "while not done:\n",
    "    state = torch.from_numpy(state).float().unsqueeze(0).to(device)\n",
    "    action = ddpg.actor(state).detach().squeeze().cpu().numpy()\n",
    "    next_state, reward, done, _ = env.step(action)\n",
    "    env.render()\n",
    "    time.sleep(0.1)\n",
    "    state = next_state\n",
    "    step+=1\n",
    "    print(\"Steps: {:4d}, Action: {}, Reward: {:.4f}\".format(step, action, reward))"
   ]
  }
 ],
 "metadata": {
  "kernelspec": {
   "display_name": "gym",
   "language": "python",
   "name": "gym"
  },
  "language_info": {
   "codemirror_mode": {
    "name": "ipython",
    "version": 3
   },
   "file_extension": ".py",
   "mimetype": "text/x-python",
   "name": "python",
   "nbconvert_exporter": "python",
   "pygments_lexer": "ipython3",
   "version": "3.7.9"
  }
 },
 "nbformat": 4,
 "nbformat_minor": 4
}
