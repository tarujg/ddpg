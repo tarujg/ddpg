{
 "cells": [
  {
   "cell_type": "code",
   "execution_count": 1,
   "metadata": {},
   "outputs": [],
   "source": [
    "from ddpg_reacher import *\n",
    "import warnings\n",
    "warnings.filterwarnings(\"ignore\")"
   ]
  },
  {
   "cell_type": "code",
   "execution_count": 2,
   "metadata": {},
   "outputs": [],
   "source": [
    "device = 'cuda' if torch.cuda.is_available() else 'cpu'\n",
    "env = gym.make(\"modified_gym_env:ReacherPyBulletEnv-v1\", rand_init=False)\n",
    "ddpg = DDPG(env, action_dim=2, state_dim=8, device=device, critic_lr=1e-3, actor_lr=1e-4, gamma=0.99, batch_size=100)"
   ]
  },
  {
   "cell_type": "code",
   "execution_count": null,
   "metadata": {},
   "outputs": [
    {
     "name": "stdout",
     "output_type": "stream",
     "text": [
      "[Evaluate] Step_00150: mean_reward:-0.20122250152054738\n",
      "[Evaluate] Step_00150: mean_reward:-0.20095191061196263\n",
      "[Evaluate] Step_00150: mean_reward:-0.20042052536400057\n",
      "[Evaluate] Step_00150: mean_reward:-0.1995742800756573\n",
      "[Evaluate] Step_00150: mean_reward:-0.1984241657347666\n",
      "[Evaluate] Step_00150: mean_reward:-0.1971068092401294\n",
      "[Evaluate] Step_00150: mean_reward:-0.1958318444662601\n",
      "[Evaluate] Step_00150: mean_reward:-0.19472988319122136\n",
      "[Evaluate] Step_00150: mean_reward:-0.1938834152794396\n",
      "[Evaluate] Step_00150: mean_reward:-0.19331609062994262\n",
      "[Evaluate] Step_00150: mean_reward:-0.19303565336742284\n",
      "[Evaluate] Step_00150: mean_reward:-0.19305289952608531\n",
      "[Evaluate] Step_00150: mean_reward:-0.19337620525979823\n",
      "[Evaluate] Step_00150: mean_reward:-0.19401305003512473\n",
      "[Evaluate] Step_00150: mean_reward:-0.1950037601007737\n",
      "[Evaluate] Step_00150: mean_reward:-0.19642111492167394\n",
      "[Evaluate] Step_00150: mean_reward:-0.19833741541877328\n",
      "[Evaluate] Step_00150: mean_reward:-0.20072819998994304\n",
      "[Evaluate] Step_00150: mean_reward:-0.20340671029174148\n",
      "[Evaluate] Step_00150: mean_reward:-0.20595983084237937\n",
      "[Evaluate] Step_00150: mean_reward:-0.20776193164074927\n",
      "[Evaluate] Step_00150: mean_reward:-0.20798373745115944\n",
      "[Evaluate] Step_00150: mean_reward:-0.20569264590991657\n",
      "[Evaluate] Step_00039: mean_reward:-0.1410956336983762\n",
      "[Evaluate] Step_00037: mean_reward:-0.14415412502533426\n",
      "[Evaluate] Step_00036: mean_reward:-0.14406186251489028\n",
      "[Evaluate] Step_00035: mean_reward:-0.14418623096318997\n",
      "[Evaluate] Step_00150: mean_reward:-0.17937338377372555\n",
      "[Evaluate] Step_00150: mean_reward:-0.18791737800641314\n",
      "[Evaluate] Step_00150: mean_reward:-0.1605907544086156\n",
      "[Evaluate] Step_00150: mean_reward:-0.18657916112350167\n",
      "[Evaluate] Step_00150: mean_reward:-0.16406546407870326\n",
      "[Evaluate] Step_00150: mean_reward:-0.1766891079660984\n"
     ]
    }
   ],
   "source": [
    "ddpg.train(10000)"
   ]
  },
  {
   "cell_type": "code",
   "execution_count": null,
   "metadata": {},
   "outputs": [],
   "source": [
    "# Train the policy\n",
    "value_losses, policy_losses, validation_reward, validation_steps = ddpg.train(2e5)\n",
    "\n",
    "plotting(validation_reward, \"Average Rewards for Evaluation\",\n",
    "                            \"eval_return.{}.png\".format(SEED),\"Iterations\", \"Reward\")\n",
    "plotting(validation_steps, \"Steps to Completion\",\n",
    "                            \"eval_steps_{}.png\".format(SEED),\"Iterations\", \"Steps to Completion\")\n",
    "\n",
    "torch.save(ddpg.actor.model,\"./Actor.pth\")\n",
    "torch.save(ddpg.critic.model,\"./Critic.pth\")\n",
    "\n",
    "np.save(\"validation_reward_{}.npy\".format(SEED), validation_reward)\n",
    "np.save(\"validation_steps_{}.npy\".format(SEED), validation_steps)\n",
    "\n",
    "# Evaluate the final policy\n",
    "state, step, done = env.reset(), 0, False\n",
    "env.render()\n",
    "while not done:\n",
    "    state = torch.from_numpy(state).float().unsqueeze(0).to(device)\n",
    "    action = ddpg.actor(state).detach().squeeze().numpy()\n",
    "    next_state, reward, done, _ = env.step(action)\n",
    "    env.render()\n",
    "    time.sleep(0.1)\n",
    "    state = next_state\n",
    "    step+=1\n",
    "    print(\"Steps: {}, Action: {}, Reward: {}\".format(step, action, reward))"
   ]
  }
 ],
 "metadata": {
  "kernelspec": {
   "display_name": "gym",
   "language": "python",
   "name": "gym"
  },
  "language_info": {
   "codemirror_mode": {
    "name": "ipython",
    "version": 3
   },
   "file_extension": ".py",
   "mimetype": "text/x-python",
   "name": "python",
   "nbconvert_exporter": "python",
   "pygments_lexer": "ipython3",
   "version": "3.7.9"
  }
 },
 "nbformat": 4,
 "nbformat_minor": 4
}
